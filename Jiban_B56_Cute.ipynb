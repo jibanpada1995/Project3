{
 "cells": [
  {
   "cell_type": "markdown",
   "metadata": {},
   "source": [
    "# Image Classification:-\n",
    "### The data consists of images pertaining to 10 categories. The task is to train a convolutional neural net in keras for classifying these images."
   ]
  },
  {
   "cell_type": "code",
   "execution_count": 1,
   "metadata": {
    "_cell_guid": "b1076dfc-b9ad-4769-8c92-a6c4dae69d19",
    "_uuid": "8f2839f25d086af736a60e9eeb907d3b93b6e0e5"
   },
   "outputs": [
    {
     "name": "stdout",
     "output_type": "stream",
     "text": [
      "['10_categories-1551435405057']\n"
     ]
    }
   ],
   "source": [
    "# This Python 3 environment comes with many helpful analytics libraries installed\n",
    "# It is defined by the kaggle/python docker image: https://github.com/kaggle/docker-python\n",
    "# For example, here's several helpful packages to load in \n",
    "\n",
    "import numpy as np # linear algebra\n",
    "import pandas as pd # data processing, CSV file I/O (e.g. pd.read_csv)\n",
    "\n",
    "# Input data files are available in the \"../input/\" directory.\n",
    "# For example, running this (by clicking run or pressing Shift+Enter) will list the files in the input directory\n",
    "\n",
    "import os\n",
    "print(os.listdir(\"../input\"))\n",
    "\n",
    "# Any results you write to the current directory are saved as output."
   ]
  },
  {
   "cell_type": "markdown",
   "metadata": {},
   "source": [
    "### Setting Path"
   ]
  },
  {
   "cell_type": "code",
   "execution_count": 2,
   "metadata": {},
   "outputs": [
    {
     "name": "stdout",
     "output_type": "stream",
     "text": [
      "/kaggle/working\n"
     ]
    }
   ],
   "source": [
    "import os\n",
    "PATH = os.getcwd()\n",
    "print(PATH)"
   ]
  },
  {
   "cell_type": "code",
   "execution_count": 3,
   "metadata": {},
   "outputs": [],
   "source": [
    "DATA_PATH = \"../input/10_categories-1551435405057/10_categories\""
   ]
  },
  {
   "cell_type": "code",
   "execution_count": 4,
   "metadata": {},
   "outputs": [
    {
     "name": "stdout",
     "output_type": "stream",
     "text": [
      "['BACKGROUND_Google', 'Leopards', 'watch', 'grand_piano', 'Motorbikes', 'car_side', 'airplanes', 'bonsai', 'Faces', 'Faces_easy']\n"
     ]
    }
   ],
   "source": [
    "print(os.listdir(DATA_PATH))\n",
    "data_dir_list = os.listdir(DATA_PATH)"
   ]
  },
  {
   "cell_type": "markdown",
   "metadata": {},
   "source": [
    "### Required variables declaration and initialization"
   ]
  },
  {
   "cell_type": "code",
   "execution_count": 5,
   "metadata": {},
   "outputs": [],
   "source": [
    "img_rows=224\n",
    "img_cols=224\n",
    "num_channel=3\n",
    "\n",
    "num_epoch=50\n",
    "batch_size=64\n",
    "\n",
    "img_data_list=[]\n",
    "classes_names_list=[]\n",
    "target_column_list=[]"
   ]
  },
  {
   "cell_type": "markdown",
   "metadata": {},
   "source": [
    "### Reading Data"
   ]
  },
  {
   "cell_type": "code",
   "execution_count": 6,
   "metadata": {},
   "outputs": [
    {
     "name": "stdout",
     "output_type": "stream",
     "text": [
      "Loading images from BACKGROUND_Google folder\n",
      "\n",
      "Loading images from Leopards folder\n",
      "\n",
      "Loading images from watch folder\n",
      "\n",
      "Loading images from grand_piano folder\n",
      "\n",
      "Loading images from Motorbikes folder\n",
      "\n",
      "Loading images from car_side folder\n",
      "\n",
      "Loading images from airplanes folder\n",
      "\n",
      "Loading images from bonsai folder\n",
      "\n",
      "Loading images from Faces folder\n",
      "\n",
      "Loading images from Faces_easy folder\n",
      "\n"
     ]
    }
   ],
   "source": [
    "import cv2\n",
    "\n",
    "for dataset in data_dir_list:\n",
    "    classes_names_list.append(dataset)\n",
    "    print ('Loading images from {} folder\\n'.format(dataset)) \n",
    "    img_list=os.listdir(DATA_PATH+'/'+ dataset)\n",
    "    for img in img_list:\n",
    "        input_img=cv2.imread(DATA_PATH + '/'+ dataset + '/'+ img )\n",
    "        input_img_resize=cv2.resize(input_img,(img_rows, img_cols))\n",
    "        img_data_list.append(input_img_resize)\n",
    "        target_column_list.append(dataset)"
   ]
  },
  {
   "cell_type": "code",
   "execution_count": 7,
   "metadata": {},
   "outputs": [
    {
     "name": "stdout",
     "output_type": "stream",
     "text": [
      "10\n",
      "3725\n"
     ]
    }
   ],
   "source": [
    "num_classes = len(classes_names_list)\n",
    "num_images =  len(img_data_list)\n",
    "print(num_classes)\n",
    "print(num_images)"
   ]
  },
  {
   "cell_type": "code",
   "execution_count": 8,
   "metadata": {},
   "outputs": [],
   "source": [
    "import numpy as np\n",
    "\n",
    "img_data = np.array(img_data_list)\n",
    "img_data = img_data.astype('float32')\n",
    "img_data /= 255"
   ]
  },
  {
   "cell_type": "code",
   "execution_count": 9,
   "metadata": {},
   "outputs": [
    {
     "name": "stdout",
     "output_type": "stream",
     "text": [
      "(3725, 224, 224, 3)\n"
     ]
    }
   ],
   "source": [
    "print (img_data.shape)"
   ]
  },
  {
   "cell_type": "code",
   "execution_count": 10,
   "metadata": {},
   "outputs": [
    {
     "name": "stdout",
     "output_type": "stream",
     "text": [
      "3725\n",
      "(224, 224, 3)\n"
     ]
    }
   ],
   "source": [
    "num_of_samples = img_data.shape[0]\n",
    "input_shape = img_data[0].shape\n",
    "print(num_of_samples)\n",
    "print(input_shape)"
   ]
  },
  {
   "cell_type": "code",
   "execution_count": 11,
   "metadata": {},
   "outputs": [
    {
     "name": "stdout",
     "output_type": "stream",
     "text": [
      "[0 0 0 ... 2 2 2]\n"
     ]
    }
   ],
   "source": [
    "from sklearn.preprocessing import LabelEncoder\n",
    "\n",
    "classes = np.ones((num_of_samples,), dtype='int64')\n",
    "labelEncoder = LabelEncoder()\n",
    "classes = labelEncoder.fit_transform(target_column_list)\n",
    "print(classes)"
   ]
  },
  {
   "cell_type": "code",
   "execution_count": 12,
   "metadata": {},
   "outputs": [
    {
     "data": {
      "text/plain": [
       "array([0, 1, 2, 3, 4, 5, 6, 7, 8, 9])"
      ]
     },
     "execution_count": 12,
     "metadata": {},
     "output_type": "execute_result"
    }
   ],
   "source": [
    "np.unique(classes)"
   ]
  },
  {
   "cell_type": "code",
   "execution_count": 13,
   "metadata": {},
   "outputs": [],
   "source": [
    "from tensorflow.keras.utils import to_categorical\n",
    "\n",
    "classes = to_categorical(classes, num_classes)"
   ]
  },
  {
   "cell_type": "code",
   "execution_count": 14,
   "metadata": {},
   "outputs": [
    {
     "data": {
      "text/plain": [
       "(3725, 10)"
      ]
     },
     "execution_count": 14,
     "metadata": {},
     "output_type": "execute_result"
    }
   ],
   "source": [
    "classes.shape"
   ]
  },
  {
   "cell_type": "markdown",
   "metadata": {},
   "source": [
    "### Splitting into Train and Test"
   ]
  },
  {
   "cell_type": "code",
   "execution_count": 15,
   "metadata": {},
   "outputs": [],
   "source": [
    "from sklearn.utils import shuffle\n",
    "\n",
    "X, Y = shuffle(img_data, classes, random_state=2)"
   ]
  },
  {
   "cell_type": "code",
   "execution_count": 16,
   "metadata": {},
   "outputs": [],
   "source": [
    "from sklearn.model_selection import train_test_split\n",
    "\n",
    "X_train, X_test, y_train, y_test = train_test_split(X, Y, test_size=0.2, random_state=2)"
   ]
  },
  {
   "cell_type": "code",
   "execution_count": 17,
   "metadata": {},
   "outputs": [
    {
     "data": {
      "text/plain": [
       "(745, 10)"
      ]
     },
     "execution_count": 17,
     "metadata": {},
     "output_type": "execute_result"
    }
   ],
   "source": [
    "y_test.shape"
   ]
  },
  {
   "cell_type": "markdown",
   "metadata": {},
   "source": [
    "### Basic Image Classification Model"
   ]
  },
  {
   "cell_type": "code",
   "execution_count": 18,
   "metadata": {},
   "outputs": [],
   "source": [
    "from tensorflow.keras.models import Sequential\n",
    "from tensorflow.keras.layers import Dense, Dropout, Flatten\n",
    "from tensorflow.keras.layers import Conv2D, MaxPooling2D"
   ]
  },
  {
   "cell_type": "code",
   "execution_count": 19,
   "metadata": {},
   "outputs": [
    {
     "name": "stdout",
     "output_type": "stream",
     "text": [
      "WARNING:tensorflow:From /opt/conda/lib/python3.6/site-packages/tensorflow/python/ops/resource_variable_ops.py:435: colocate_with (from tensorflow.python.framework.ops) is deprecated and will be removed in a future version.\n",
      "Instructions for updating:\n",
      "Colocations handled automatically by placer.\n",
      "WARNING:tensorflow:From /opt/conda/lib/python3.6/site-packages/tensorflow/python/keras/layers/core.py:143: calling dropout (from tensorflow.python.ops.nn_ops) with keep_prob is deprecated and will be removed in a future version.\n",
      "Instructions for updating:\n",
      "Please use `rate` instead of `keep_prob`. Rate should be set to `rate = 1 - keep_prob`.\n"
     ]
    }
   ],
   "source": [
    "model = Sequential()\n",
    "\n",
    "model.add(Conv2D(32, (3, 3), activation='relu', input_shape=input_shape))\n",
    "model.add(Conv2D(32, (3, 3), activation='relu'))\n",
    "model.add(MaxPooling2D(pool_size=(2, 2)))\n",
    "model.add(Dropout(0.5))\n",
    "\n",
    "model.add(Conv2D(64, (3, 3), activation='relu'))\n",
    "model.add(Conv2D(64, (3, 3), activation='relu'))\n",
    "model.add(MaxPooling2D(pool_size=(2, 2)))\n",
    "model.add(Dropout(0.5))\n",
    "\n",
    "model.add(Flatten())\n",
    "model.add(Dense(64, activation='relu'))\n",
    "model.add(Dropout(0.5))\n",
    "model.add(Dense(num_classes, activation='softmax'))"
   ]
  },
  {
   "cell_type": "code",
   "execution_count": 20,
   "metadata": {},
   "outputs": [],
   "source": [
    "model.compile(loss='categorical_crossentropy', optimizer='adam', metrics=[\"accuracy\"])"
   ]
  },
  {
   "cell_type": "code",
   "execution_count": 21,
   "metadata": {},
   "outputs": [
    {
     "name": "stdout",
     "output_type": "stream",
     "text": [
      "_________________________________________________________________\n",
      "Layer (type)                 Output Shape              Param #   \n",
      "=================================================================\n",
      "conv2d (Conv2D)              (None, 222, 222, 32)      896       \n",
      "_________________________________________________________________\n",
      "conv2d_1 (Conv2D)            (None, 220, 220, 32)      9248      \n",
      "_________________________________________________________________\n",
      "max_pooling2d (MaxPooling2D) (None, 110, 110, 32)      0         \n",
      "_________________________________________________________________\n",
      "dropout (Dropout)            (None, 110, 110, 32)      0         \n",
      "_________________________________________________________________\n",
      "conv2d_2 (Conv2D)            (None, 108, 108, 64)      18496     \n",
      "_________________________________________________________________\n",
      "conv2d_3 (Conv2D)            (None, 106, 106, 64)      36928     \n",
      "_________________________________________________________________\n",
      "max_pooling2d_1 (MaxPooling2 (None, 53, 53, 64)        0         \n",
      "_________________________________________________________________\n",
      "dropout_1 (Dropout)          (None, 53, 53, 64)        0         \n",
      "_________________________________________________________________\n",
      "flatten (Flatten)            (None, 179776)            0         \n",
      "_________________________________________________________________\n",
      "dense (Dense)                (None, 64)                11505728  \n",
      "_________________________________________________________________\n",
      "dropout_2 (Dropout)          (None, 64)                0         \n",
      "_________________________________________________________________\n",
      "dense_1 (Dense)              (None, 10)                650       \n",
      "=================================================================\n",
      "Total params: 11,571,946\n",
      "Trainable params: 11,571,946\n",
      "Non-trainable params: 0\n",
      "_________________________________________________________________\n"
     ]
    }
   ],
   "source": [
    "model.summary()"
   ]
  },
  {
   "cell_type": "code",
   "execution_count": 22,
   "metadata": {},
   "outputs": [
    {
     "name": "stdout",
     "output_type": "stream",
     "text": [
      "Train on 2980 samples, validate on 745 samples\n",
      "WARNING:tensorflow:From /opt/conda/lib/python3.6/site-packages/tensorflow/python/ops/math_ops.py:3066: to_int32 (from tensorflow.python.ops.math_ops) is deprecated and will be removed in a future version.\n",
      "Instructions for updating:\n",
      "Use tf.cast instead.\n",
      "Epoch 1/50\n",
      "2980/2980 [==============================] - 14s 5ms/sample - loss: 2.3158 - acc: 0.2829 - val_loss: 1.9269 - val_acc: 0.4295\n",
      "Epoch 2/50\n",
      "2980/2980 [==============================] - 8s 3ms/sample - loss: 1.4916 - acc: 0.4745 - val_loss: 1.1486 - val_acc: 0.5960\n",
      "Epoch 3/50\n",
      "2980/2980 [==============================] - 9s 3ms/sample - loss: 1.2156 - acc: 0.5762 - val_loss: 1.2321 - val_acc: 0.6685\n",
      "Epoch 4/50\n",
      "2980/2980 [==============================] - 8s 3ms/sample - loss: 1.0822 - acc: 0.6275 - val_loss: 0.9388 - val_acc: 0.6792\n",
      "Epoch 5/50\n",
      "2980/2980 [==============================] - 9s 3ms/sample - loss: 1.0357 - acc: 0.6419 - val_loss: 0.8624 - val_acc: 0.7181\n",
      "Epoch 6/50\n",
      "2980/2980 [==============================] - 8s 3ms/sample - loss: 0.9234 - acc: 0.6772 - val_loss: 0.8074 - val_acc: 0.7409\n",
      "Epoch 7/50\n",
      "2980/2980 [==============================] - 9s 3ms/sample - loss: 0.8749 - acc: 0.6930 - val_loss: 0.8002 - val_acc: 0.7396\n",
      "Epoch 8/50\n",
      "2980/2980 [==============================] - 8s 3ms/sample - loss: 0.8005 - acc: 0.7208 - val_loss: 0.6315 - val_acc: 0.7745\n",
      "Epoch 9/50\n",
      "2980/2980 [==============================] - 9s 3ms/sample - loss: 0.7039 - acc: 0.7597 - val_loss: 0.4710 - val_acc: 0.8389\n",
      "Epoch 10/50\n",
      "2980/2980 [==============================] - 8s 3ms/sample - loss: 0.5444 - acc: 0.8097 - val_loss: 0.3914 - val_acc: 0.8792\n",
      "Epoch 11/50\n",
      "2980/2980 [==============================] - 9s 3ms/sample - loss: 0.5136 - acc: 0.8238 - val_loss: 0.3792 - val_acc: 0.8832\n",
      "Epoch 12/50\n",
      "2980/2980 [==============================] - 8s 3ms/sample - loss: 0.4685 - acc: 0.8359 - val_loss: 0.3475 - val_acc: 0.8966\n",
      "Epoch 13/50\n",
      "2980/2980 [==============================] - 9s 3ms/sample - loss: 0.3985 - acc: 0.8607 - val_loss: 0.3899 - val_acc: 0.8792\n",
      "Epoch 14/50\n",
      "2980/2980 [==============================] - 8s 3ms/sample - loss: 0.3992 - acc: 0.8550 - val_loss: 0.2710 - val_acc: 0.9101\n",
      "Epoch 15/50\n",
      "2980/2980 [==============================] - 9s 3ms/sample - loss: 0.3346 - acc: 0.8772 - val_loss: 0.2815 - val_acc: 0.9141\n",
      "Epoch 16/50\n",
      "2980/2980 [==============================] - 8s 3ms/sample - loss: 0.3051 - acc: 0.8943 - val_loss: 0.2924 - val_acc: 0.9074\n",
      "Epoch 17/50\n",
      "2980/2980 [==============================] - 9s 3ms/sample - loss: 0.2708 - acc: 0.9013 - val_loss: 0.2525 - val_acc: 0.9168\n",
      "Epoch 18/50\n",
      "2980/2980 [==============================] - 8s 3ms/sample - loss: 0.2976 - acc: 0.8926 - val_loss: 0.2783 - val_acc: 0.9114\n",
      "Epoch 19/50\n",
      "2980/2980 [==============================] - 9s 3ms/sample - loss: 0.2371 - acc: 0.9161 - val_loss: 0.2397 - val_acc: 0.9315\n",
      "Epoch 20/50\n",
      "2980/2980 [==============================] - 8s 3ms/sample - loss: 0.2427 - acc: 0.9064 - val_loss: 0.3127 - val_acc: 0.9101\n",
      "Epoch 21/50\n",
      "2980/2980 [==============================] - 9s 3ms/sample - loss: 0.1952 - acc: 0.9258 - val_loss: 0.2323 - val_acc: 0.9275\n",
      "Epoch 22/50\n",
      "2980/2980 [==============================] - 8s 3ms/sample - loss: 0.2015 - acc: 0.9265 - val_loss: 0.2981 - val_acc: 0.9087\n",
      "Epoch 23/50\n",
      "2980/2980 [==============================] - 9s 3ms/sample - loss: 0.1945 - acc: 0.9265 - val_loss: 0.2956 - val_acc: 0.9114\n",
      "Epoch 24/50\n",
      "2980/2980 [==============================] - 8s 3ms/sample - loss: 0.1603 - acc: 0.9413 - val_loss: 0.2912 - val_acc: 0.9195\n",
      "Epoch 25/50\n",
      "2980/2980 [==============================] - 9s 3ms/sample - loss: 0.1719 - acc: 0.9319 - val_loss: 0.2506 - val_acc: 0.9248\n",
      "Epoch 26/50\n",
      "2980/2980 [==============================] - 8s 3ms/sample - loss: 0.1651 - acc: 0.9329 - val_loss: 0.2876 - val_acc: 0.9221\n",
      "Epoch 27/50\n",
      "2980/2980 [==============================] - 9s 3ms/sample - loss: 0.1634 - acc: 0.9359 - val_loss: 0.3155 - val_acc: 0.9154\n",
      "Epoch 28/50\n",
      "2980/2980 [==============================] - 8s 3ms/sample - loss: 0.1667 - acc: 0.9393 - val_loss: 0.2647 - val_acc: 0.9181\n",
      "Epoch 29/50\n",
      "2980/2980 [==============================] - 9s 3ms/sample - loss: 0.1515 - acc: 0.9383 - val_loss: 0.3262 - val_acc: 0.9141\n",
      "Epoch 30/50\n",
      "2980/2980 [==============================] - 8s 3ms/sample - loss: 0.1618 - acc: 0.9396 - val_loss: 0.3415 - val_acc: 0.9168\n",
      "Epoch 31/50\n",
      "2980/2980 [==============================] - 9s 3ms/sample - loss: 0.1508 - acc: 0.9443 - val_loss: 0.3057 - val_acc: 0.9195\n",
      "Epoch 32/50\n",
      "2980/2980 [==============================] - 8s 3ms/sample - loss: 0.1515 - acc: 0.9393 - val_loss: 0.3294 - val_acc: 0.9154\n",
      "Epoch 33/50\n",
      "2980/2980 [==============================] - 9s 3ms/sample - loss: 0.1368 - acc: 0.9466 - val_loss: 0.3051 - val_acc: 0.9248\n",
      "Epoch 34/50\n",
      "2980/2980 [==============================] - 8s 3ms/sample - loss: 0.1366 - acc: 0.9490 - val_loss: 0.3236 - val_acc: 0.9154\n",
      "Epoch 35/50\n",
      "2980/2980 [==============================] - 9s 3ms/sample - loss: 0.1337 - acc: 0.9473 - val_loss: 0.3655 - val_acc: 0.9195\n",
      "Epoch 36/50\n",
      "2980/2980 [==============================] - 8s 3ms/sample - loss: 0.1601 - acc: 0.9443 - val_loss: 0.2911 - val_acc: 0.9154\n",
      "Epoch 37/50\n",
      "2980/2980 [==============================] - 9s 3ms/sample - loss: 0.1182 - acc: 0.9567 - val_loss: 0.3357 - val_acc: 0.9141\n",
      "Epoch 38/50\n",
      "2980/2980 [==============================] - 8s 3ms/sample - loss: 0.1101 - acc: 0.9574 - val_loss: 0.2827 - val_acc: 0.9289\n",
      "Epoch 39/50\n",
      "2980/2980 [==============================] - 9s 3ms/sample - loss: 0.1390 - acc: 0.9463 - val_loss: 0.3378 - val_acc: 0.9262\n",
      "Epoch 40/50\n",
      "2980/2980 [==============================] - 8s 3ms/sample - loss: 0.1121 - acc: 0.9584 - val_loss: 0.4623 - val_acc: 0.8993\n",
      "Epoch 41/50\n",
      "2980/2980 [==============================] - 9s 3ms/sample - loss: 0.1241 - acc: 0.9507 - val_loss: 0.3533 - val_acc: 0.9168\n",
      "Epoch 42/50\n",
      "2980/2980 [==============================] - 8s 3ms/sample - loss: 0.1244 - acc: 0.9540 - val_loss: 0.2979 - val_acc: 0.9208\n",
      "Epoch 43/50\n",
      "2980/2980 [==============================] - 9s 3ms/sample - loss: 0.1522 - acc: 0.9480 - val_loss: 0.2979 - val_acc: 0.8980\n",
      "Epoch 44/50\n",
      "2980/2980 [==============================] - 8s 3ms/sample - loss: 0.1691 - acc: 0.9436 - val_loss: 0.2679 - val_acc: 0.9275\n",
      "Epoch 45/50\n",
      "2980/2980 [==============================] - 9s 3ms/sample - loss: 0.1125 - acc: 0.9591 - val_loss: 0.2961 - val_acc: 0.9315\n",
      "Epoch 46/50\n",
      "2980/2980 [==============================] - 8s 3ms/sample - loss: 0.1166 - acc: 0.9550 - val_loss: 0.2850 - val_acc: 0.9342\n",
      "Epoch 47/50\n",
      "2980/2980 [==============================] - 9s 3ms/sample - loss: 0.1077 - acc: 0.9554 - val_loss: 0.4725 - val_acc: 0.9074\n",
      "Epoch 48/50\n",
      "2980/2980 [==============================] - 8s 3ms/sample - loss: 0.1109 - acc: 0.9634 - val_loss: 0.3240 - val_acc: 0.9356\n",
      "Epoch 49/50\n",
      "2980/2980 [==============================] - 9s 3ms/sample - loss: 0.1026 - acc: 0.9604 - val_loss: 0.2589 - val_acc: 0.9289\n",
      "Epoch 50/50\n",
      "2980/2980 [==============================] - 8s 3ms/sample - loss: 0.0807 - acc: 0.9674 - val_loss: 0.3314 - val_acc: 0.9275\n"
     ]
    }
   ],
   "source": [
    "hist = model.fit(X_train, y_train, batch_size=batch_size, epochs=num_epoch, verbose=1, validation_data=(X_test, y_test))"
   ]
  },
  {
   "cell_type": "code",
   "execution_count": 23,
   "metadata": {},
   "outputs": [
    {
     "name": "stdout",
     "output_type": "stream",
     "text": [
      "745/745 [==============================] - 1s 2ms/sample - loss: 0.3314 - acc: 0.9275\n",
      "Test Loss: 0.33136088982124456\n",
      "Test Accuracy: 0.92751676\n"
     ]
    }
   ],
   "source": [
    "score = model.evaluate(X_test, y_test, batch_size=batch_size)\n",
    "\n",
    "print('Test Loss:', score[0])\n",
    "print('Test Accuracy:', score[1])"
   ]
  },
  {
   "cell_type": "code",
   "execution_count": 24,
   "metadata": {},
   "outputs": [
    {
     "name": "stdout",
     "output_type": "stream",
     "text": [
      "(1, 224, 224, 3)\n"
     ]
    }
   ],
   "source": [
    "test_image = X_test[0:1]\n",
    "print (test_image.shape)"
   ]
  },
  {
   "cell_type": "code",
   "execution_count": 25,
   "metadata": {},
   "outputs": [
    {
     "name": "stdout",
     "output_type": "stream",
     "text": [
      "[[4.3611371e-13 1.6008456e-05 9.9998403e-01 4.1685248e-22 2.8149419e-23\n",
      "  4.8994080e-15 6.0854377e-25 7.2678095e-15 1.1892427e-14 7.6944219e-16]]\n",
      "[2]\n",
      "[[0. 0. 1. 0. 0. 0. 0. 0. 0. 0.]]\n"
     ]
    }
   ],
   "source": [
    "print(model.predict(test_image))\n",
    "print(model.predict_classes(test_image))\n",
    "print(y_test[0:1])"
   ]
  },
  {
   "cell_type": "code",
   "execution_count": 26,
   "metadata": {},
   "outputs": [
    {
     "name": "stdout",
     "output_type": "stream",
     "text": [
      "[[4.3611206e-13 1.6008395e-05 9.9998403e-01 ... 7.2677824e-15\n",
      "  1.1892382e-14 7.6943928e-16]\n",
      " [5.0654131e-24 1.3622348e-10 1.0000000e+00 ... 1.0579345e-26\n",
      "  1.7630201e-22 1.2672635e-27]\n",
      " [7.4155480e-01 1.0442579e-03 1.0061817e-04 ... 3.6107798e-03\n",
      "  1.3762071e-04 1.6007343e-03]\n",
      " ...\n",
      " [2.1022420e-02 1.1194828e-03 2.1322336e-05 ... 9.7543210e-01\n",
      "  3.9064806e-04 3.3562948e-04]\n",
      " [3.7258590e-20 1.3557415e-29 2.1125039e-25 ... 2.9865573e-20\n",
      "  5.8999165e-27 6.2571115e-20]\n",
      " [1.5980925e-02 4.9443088e-07 1.3185932e-11 ... 2.8638656e-06\n",
      "  5.1099079e-08 2.8596558e-05]]\n"
     ]
    }
   ],
   "source": [
    "from sklearn.metrics import confusion_matrix\n",
    "\n",
    "Y_pred = model.predict(X_test)\n",
    "print(Y_pred)"
   ]
  },
  {
   "cell_type": "code",
   "execution_count": 27,
   "metadata": {},
   "outputs": [
    {
     "name": "stdout",
     "output_type": "stream",
     "text": [
      "[2 2 0 0 2 2 3 5 6 1 5 5 3 0 7 5 1 9 1 5 4 4 4 4 5 4 4 0 4 5 5 4 5 5 4 5 5\n",
      " 4 4 4 4 2 1 5 5 4 0 4 4 9 0 5 5 4 4 1 2 0 9 1 9 5 0 4 1 4 5 5 5 0 2 2 5 4\n",
      " 4 4 2 4 9 8 0 0 7 0 2 2 7 3 2 3 8 4 5 7 0 5 4 4 9 5 1 3 4 9 1 5 5 4 5 4 5\n",
      " 0 5 1 1 4 0 5 1 0 2 1 5 2 4 0 5 5 4 4 0 4 4 1 4 2 1 6 1 8 0 5 0 6 3 0 0 4\n",
      " 1 6 4 0 5 4 5 5 5 0 5 4 5 4 5 7 5 6 7 4 9 4 3 3 4 4 4 5 5 1 4 1 9 5 0 5 0\n",
      " 5 1 2 5 2 0 4 1 3 0 4 0 5 2 4 3 4 4 1 4 2 1 0 1 4 2 4 5 4 7 5 0 5 5 1 7 0\n",
      " 0 3 6 2 0 7 5 5 0 4 0 0 5 7 7 0 1 3 4 0 5 0 2 4 5 5 5 4 9 5 2 2 0 4 3 4 1\n",
      " 1 9 4 4 3 0 9 2 0 0 7 5 4 0 4 2 4 5 4 0 1 4 5 4 8 5 5 5 0 0 1 1 5 5 1 1 5\n",
      " 4 1 3 0 5 3 4 1 0 5 0 5 1 0 2 9 0 0 4 2 5 1 0 5 1 4 4 9 0 9 3 5 0 4 9 3 5\n",
      " 4 7 2 6 7 0 3 5 0 7 4 9 7 4 5 0 2 4 0 6 0 5 4 1 0 3 3 2 1 3 1 4 0 5 4 0 9\n",
      " 3 1 4 0 5 0 1 4 1 4 5 6 9 0 0 0 5 9 8 3 0 2 2 6 0 4 0 2 0 2 9 3 1 3 1 4 4\n",
      " 2 5 5 0 0 3 0 5 6 2 2 0 5 1 4 4 4 0 4 2 1 2 4 5 4 1 0 0 5 5 5 1 4 5 5 3 4\n",
      " 5 0 4 9 2 9 6 1 4 9 3 4 4 1 0 5 2 0 3 3 4 5 7 2 3 4 3 5 9 0 2 4 8 7 3 5 5\n",
      " 5 0 2 0 7 5 0 4 2 3 3 9 5 4 2 5 1 5 4 2 4 4 5 4 3 5 1 2 4 4 5 4 4 0 1 2 4\n",
      " 2 6 0 4 5 4 4 0 4 4 9 0 0 1 2 0 2 5 2 5 6 4 5 4 0 2 5 4 2 8 2 5 1 5 5 4 0\n",
      " 1 3 4 1 4 5 4 2 1 1 6 5 3 1 9 5 2 0 4 2 5 5 2 2 7 0 4 1 9 3 3 1 0 5 0 5 2\n",
      " 4 9 2 5 7 5 2 1 4 5 0 5 4 5 9 1 0 2 9 4 2 0 5 3 5 9 4 0 0 1 5 5 0 4 5 5 4\n",
      " 4 4 0 1 0 4 4 5 0 2 1 1 4 0 0 4 5 2 9 5 5 0 1 9 0 9 1 9 2 7 4 3 4 0 5 5 0\n",
      " 5 2 0 4 5 5 5 0 5 4 2 0 2 2 2 0 0 4 0 4 7 0 5 5 4 5 2 1 1 2 1 4 0 2 1 1 7\n",
      " 1 3 4 2 4 5 4 5 4 4 5 3 4 2 4 9 4 2 4 1 9 3 0 5 1 7 5 5 5 4 3 1 4 2 5 4 4\n",
      " 0 4 7 5 5]\n"
     ]
    }
   ],
   "source": [
    "y_pred = np.argmax(Y_pred, axis=1)\n",
    "print(y_pred)"
   ]
  },
  {
   "cell_type": "code",
   "execution_count": 28,
   "metadata": {},
   "outputs": [
    {
     "name": "stdout",
     "output_type": "stream",
     "text": [
      "[[ 95   0   0   1   3   2   1   1   0   1]\n",
      " [  4  81   1   0   0   0   1   0   0   0]\n",
      " [  1   0  81   0   0   0   0   0   0   0]\n",
      " [  0   0   0  45   0   0   0   0   0   0]\n",
      " [  0   0   0   0 157   1   0   0   0   0]\n",
      " [  3   0   0   0   3 153   1   0   0   0]\n",
      " [ 10   0   0   0   0   0  12   1   0   1]\n",
      " [  0   0   0   0   1   0   0  23   0   0]\n",
      " [  3   0   0   0   0   0   0   0   7   0]\n",
      " [  9   0   0   1   1   2   0   1   0  37]]\n"
     ]
    }
   ],
   "source": [
    "print(confusion_matrix(np.argmax(y_test, axis=1), y_pred))"
   ]
  },
  {
   "cell_type": "markdown",
   "metadata": {},
   "source": [
    "### Image Augmentation"
   ]
  },
  {
   "cell_type": "code",
   "execution_count": 29,
   "metadata": {},
   "outputs": [],
   "source": [
    "from tensorflow.keras.preprocessing.image import ImageDataGenerator\n",
    "\n",
    "data_gen = ImageDataGenerator(\n",
    "    rotation_range=20,\n",
    "    shear_range=0.5, \n",
    "    zoom_range=0.4, \n",
    "    rescale=1./255,\n",
    "    vertical_flip=True, \n",
    "    validation_split=0.2,\n",
    "    width_shift_range=0.2,\n",
    "    height_shift_range=0.2,\n",
    "    horizontal_flip=True) "
   ]
  },
  {
   "cell_type": "code",
   "execution_count": 30,
   "metadata": {},
   "outputs": [],
   "source": [
    "TRN_AUGMENTED = os.path.join(PATH , 'Trn_Augmented_Images')\n",
    "TST_AUGMENTED = os.path.join(PATH , 'Tst_Augmented_Images')"
   ]
  },
  {
   "cell_type": "code",
   "execution_count": 31,
   "metadata": {},
   "outputs": [],
   "source": [
    "ftrain_generator = data_gen.flow(\n",
    "        X_train,\n",
    "        y_train,\n",
    "        batch_size=batch_size, \n",
    "        shuffle=True,  \n",
    "        subset=\"training\")"
   ]
  },
  {
   "cell_type": "code",
   "execution_count": 32,
   "metadata": {},
   "outputs": [],
   "source": [
    "ftest_generator = data_gen.flow(\n",
    "        X_test,\n",
    "        y_test,\n",
    "        batch_size=batch_size, \n",
    "        shuffle=True,  \n",
    "        subset=\"validation\")"
   ]
  },
  {
   "cell_type": "code",
   "execution_count": 33,
   "metadata": {},
   "outputs": [
    {
     "name": "stdout",
     "output_type": "stream",
     "text": [
      "Epoch 1/50\n",
      "3/3 [==============================] - 2s 752ms/step - loss: 2.2944 - acc: 0.1208\n",
      "38/38 [==============================] - 25s 664ms/step - loss: 2.3792 - acc: 0.1019 - val_loss: 2.2944 - val_acc: 0.1208\n",
      "Epoch 2/50\n",
      "3/3 [==============================] - 3s 840ms/step - loss: 2.1380 - acc: 0.2416\n",
      "38/38 [==============================] - 25s 645ms/step - loss: 2.2158 - acc: 0.1812 - val_loss: 2.1380 - val_acc: 0.2416\n",
      "Epoch 3/50\n",
      "3/3 [==============================] - 2s 716ms/step - loss: 2.1036 - acc: 0.2416\n",
      "38/38 [==============================] - 25s 649ms/step - loss: 2.1397 - acc: 0.2047 - val_loss: 2.1036 - val_acc: 0.2416\n",
      "Epoch 4/50\n",
      "3/3 [==============================] - 2s 734ms/step - loss: 2.0688 - acc: 0.2416\n",
      "38/38 [==============================] - 24s 621ms/step - loss: 2.1289 - acc: 0.2018 - val_loss: 2.0688 - val_acc: 0.2416\n",
      "Epoch 5/50\n",
      "3/3 [==============================] - 2s 708ms/step - loss: 2.0558 - acc: 0.2416\n",
      "38/38 [==============================] - 24s 624ms/step - loss: 2.1291 - acc: 0.2051 - val_loss: 2.0558 - val_acc: 0.2416\n",
      "Epoch 6/50\n",
      "3/3 [==============================] - 2s 720ms/step - loss: 2.0281 - acc: 0.2416\n",
      "38/38 [==============================] - 25s 666ms/step - loss: 2.1137 - acc: 0.2152 - val_loss: 2.0281 - val_acc: 0.2416\n",
      "Epoch 7/50\n",
      "3/3 [==============================] - 3s 843ms/step - loss: 2.0228 - acc: 0.2416\n",
      "38/38 [==============================] - 25s 646ms/step - loss: 2.1071 - acc: 0.2223 - val_loss: 2.0228 - val_acc: 0.2416\n",
      "Epoch 8/50\n",
      "3/3 [==============================] - 2s 727ms/step - loss: 2.0196 - acc: 0.2416\n",
      "38/38 [==============================] - 24s 644ms/step - loss: 2.1138 - acc: 0.2169 - val_loss: 2.0196 - val_acc: 0.2416\n",
      "Epoch 9/50\n",
      "3/3 [==============================] - 3s 843ms/step - loss: 2.0191 - acc: 0.2416\n",
      "38/38 [==============================] - 26s 677ms/step - loss: 2.1135 - acc: 0.2135 - val_loss: 2.0191 - val_acc: 0.2416\n",
      "Epoch 10/50\n",
      "3/3 [==============================] - 2s 720ms/step - loss: 1.9792 - acc: 0.2416\n",
      "38/38 [==============================] - 24s 638ms/step - loss: 2.1020 - acc: 0.2093 - val_loss: 1.9792 - val_acc: 0.2416\n",
      "Epoch 11/50\n",
      "3/3 [==============================] - 2s 719ms/step - loss: 1.9799 - acc: 0.2416\n",
      "38/38 [==============================] - 24s 621ms/step - loss: 2.1057 - acc: 0.2169 - val_loss: 1.9799 - val_acc: 0.2416\n",
      "Epoch 12/50\n",
      "3/3 [==============================] - 2s 826ms/step - loss: 1.9817 - acc: 0.2416\n",
      "38/38 [==============================] - 25s 649ms/step - loss: 2.1152 - acc: 0.2143 - val_loss: 1.9817 - val_acc: 0.2416\n",
      "Epoch 13/50\n",
      "3/3 [==============================] - 2s 713ms/step - loss: 1.9814 - acc: 0.2416\n",
      "38/38 [==============================] - 24s 634ms/step - loss: 2.1059 - acc: 0.2122 - val_loss: 1.9814 - val_acc: 0.2416\n",
      "Epoch 14/50\n",
      "3/3 [==============================] - 2s 714ms/step - loss: 2.0425 - acc: 0.2416\n",
      "38/38 [==============================] - 24s 629ms/step - loss: 2.1069 - acc: 0.2257 - val_loss: 2.0425 - val_acc: 0.2416\n",
      "Epoch 15/50\n",
      "3/3 [==============================] - 2s 721ms/step - loss: 2.0424 - acc: 0.2416\n",
      "38/38 [==============================] - 24s 623ms/step - loss: 2.0986 - acc: 0.2219 - val_loss: 2.0424 - val_acc: 0.2416\n",
      "Epoch 16/50\n",
      "3/3 [==============================] - 2s 723ms/step - loss: 2.0421 - acc: 0.2416\n",
      "38/38 [==============================] - 25s 660ms/step - loss: 2.0983 - acc: 0.2072 - val_loss: 2.0421 - val_acc: 0.2416\n",
      "Epoch 17/50\n",
      "3/3 [==============================] - 2s 723ms/step - loss: 2.0028 - acc: 0.2416\n",
      "38/38 [==============================] - 24s 637ms/step - loss: 2.1013 - acc: 0.2039 - val_loss: 2.0028 - val_acc: 0.2416\n",
      "Epoch 18/50\n",
      "3/3 [==============================] - 2s 715ms/step - loss: 2.0050 - acc: 0.2416\n",
      "38/38 [==============================] - 24s 633ms/step - loss: 2.1082 - acc: 0.2085 - val_loss: 2.0050 - val_acc: 0.2416\n",
      "Epoch 19/50\n",
      "3/3 [==============================] - 2s 710ms/step - loss: 2.0093 - acc: 0.2416\n",
      "38/38 [==============================] - 25s 667ms/step - loss: 2.1092 - acc: 0.2060 - val_loss: 2.0093 - val_acc: 0.2416\n",
      "Epoch 20/50\n",
      "3/3 [==============================] - 2s 729ms/step - loss: 2.0097 - acc: 0.2416\n",
      "38/38 [==============================] - 25s 664ms/step - loss: 2.1050 - acc: 0.2085 - val_loss: 2.0097 - val_acc: 0.2416\n",
      "Epoch 21/50\n",
      "3/3 [==============================] - 2s 727ms/step - loss: 2.0091 - acc: 0.2416\n",
      "38/38 [==============================] - 24s 622ms/step - loss: 2.1002 - acc: 0.1971 - val_loss: 2.0091 - val_acc: 0.2416\n",
      "Epoch 22/50\n",
      "3/3 [==============================] - 2s 776ms/step - loss: 2.0078 - acc: 0.2416\n",
      "38/38 [==============================] - 26s 679ms/step - loss: 2.1020 - acc: 0.2135 - val_loss: 2.0078 - val_acc: 0.2416\n",
      "Epoch 23/50\n",
      "3/3 [==============================] - 2s 725ms/step - loss: 2.0276 - acc: 0.2416\n",
      "38/38 [==============================] - 24s 630ms/step - loss: 2.0927 - acc: 0.2102 - val_loss: 2.0276 - val_acc: 0.2416\n",
      "Epoch 24/50\n",
      "3/3 [==============================] - 2s 711ms/step - loss: 2.0282 - acc: 0.2416\n",
      "38/38 [==============================] - 24s 622ms/step - loss: 2.0993 - acc: 0.2060 - val_loss: 2.0282 - val_acc: 0.2416\n",
      "Epoch 25/50\n",
      "3/3 [==============================] - 2s 821ms/step - loss: 2.0286 - acc: 0.2416\n",
      "38/38 [==============================] - 24s 631ms/step - loss: 2.0997 - acc: 0.2164 - val_loss: 2.0286 - val_acc: 0.2416\n",
      "Epoch 26/50\n",
      "3/3 [==============================] - 2s 707ms/step - loss: 2.0286 - acc: 0.2416\n",
      "38/38 [==============================] - 25s 650ms/step - loss: 2.0953 - acc: 0.2160 - val_loss: 2.0286 - val_acc: 0.2416\n",
      "Epoch 27/50\n",
      "3/3 [==============================] - 2s 724ms/step - loss: 2.0338 - acc: 0.2416\n",
      "38/38 [==============================] - 24s 632ms/step - loss: 2.0997 - acc: 0.2106 - val_loss: 2.0338 - val_acc: 0.2416\n",
      "Epoch 28/50\n",
      "3/3 [==============================] - 2s 737ms/step - loss: 2.0344 - acc: 0.2416\n",
      "38/38 [==============================] - 24s 622ms/step - loss: 2.1021 - acc: 0.2139 - val_loss: 2.0344 - val_acc: 0.2416\n",
      "Epoch 29/50\n",
      "3/3 [==============================] - 2s 730ms/step - loss: 2.0330 - acc: 0.2416\n",
      "38/38 [==============================] - 25s 655ms/step - loss: 2.0934 - acc: 0.2194 - val_loss: 2.0330 - val_acc: 0.2416\n",
      "Epoch 30/50\n",
      "3/3 [==============================] - 2s 716ms/step - loss: 2.0343 - acc: 0.2416\n",
      "38/38 [==============================] - 24s 623ms/step - loss: 2.1002 - acc: 0.2148 - val_loss: 2.0343 - val_acc: 0.2416\n",
      "Epoch 31/50\n",
      "3/3 [==============================] - 2s 698ms/step - loss: 2.0335 - acc: 0.2416\n",
      "38/38 [==============================] - 24s 619ms/step - loss: 2.0969 - acc: 0.2093 - val_loss: 2.0335 - val_acc: 0.2416\n",
      "Epoch 32/50\n",
      "3/3 [==============================] - 2s 793ms/step - loss: 2.0342 - acc: 0.2416\n",
      "38/38 [==============================] - 25s 658ms/step - loss: 2.0997 - acc: 0.2185 - val_loss: 2.0342 - val_acc: 0.2416\n",
      "Epoch 33/50\n",
      "3/3 [==============================] - 2s 715ms/step - loss: 2.0337 - acc: 0.2416\n",
      "38/38 [==============================] - 25s 669ms/step - loss: 2.0999 - acc: 0.2039 - val_loss: 2.0337 - val_acc: 0.2416\n",
      "Epoch 34/50\n",
      "3/3 [==============================] - 2s 710ms/step - loss: 2.0347 - acc: 0.2416\n",
      "38/38 [==============================] - 24s 621ms/step - loss: 2.1050 - acc: 0.2181 - val_loss: 2.0347 - val_acc: 0.2416\n",
      "Epoch 35/50\n",
      "3/3 [==============================] - 2s 825ms/step - loss: 2.0339 - acc: 0.2416\n",
      "38/38 [==============================] - 25s 657ms/step - loss: 2.0963 - acc: 0.2139 - val_loss: 2.0339 - val_acc: 0.2416\n",
      "Epoch 36/50\n",
      "3/3 [==============================] - 2s 713ms/step - loss: 2.0338 - acc: 0.2416\n",
      "38/38 [==============================] - 24s 642ms/step - loss: 2.0942 - acc: 0.2076 - val_loss: 2.0338 - val_acc: 0.2416\n",
      "Epoch 37/50\n",
      "3/3 [==============================] - 2s 710ms/step - loss: 2.0333 - acc: 0.2416\n",
      "38/38 [==============================] - 24s 622ms/step - loss: 2.0986 - acc: 0.2118 - val_loss: 2.0333 - val_acc: 0.2416\n",
      "Epoch 38/50\n",
      "3/3 [==============================] - 2s 710ms/step - loss: 1.9948 - acc: 0.2416\n",
      "38/38 [==============================] - 24s 629ms/step - loss: 2.0950 - acc: 0.2118 - val_loss: 1.9948 - val_acc: 0.2416\n"
     ]
    },
    {
     "name": "stdout",
     "output_type": "stream",
     "text": [
      "Epoch 39/50\n",
      "3/3 [==============================] - 2s 718ms/step - loss: 2.0062 - acc: 0.2416\n",
      "38/38 [==============================] - 25s 666ms/step - loss: 2.1050 - acc: 0.2009 - val_loss: 2.0062 - val_acc: 0.2416\n",
      "Epoch 40/50\n",
      "3/3 [==============================] - 2s 702ms/step - loss: 2.0063 - acc: 0.2416\n",
      "38/38 [==============================] - 24s 619ms/step - loss: 2.1043 - acc: 0.2198 - val_loss: 2.0063 - val_acc: 0.2416\n",
      "Epoch 41/50\n",
      "3/3 [==============================] - 2s 720ms/step - loss: 2.0087 - acc: 0.2416\n",
      "38/38 [==============================] - 24s 621ms/step - loss: 2.0916 - acc: 0.2194 - val_loss: 2.0087 - val_acc: 0.2416\n",
      "Epoch 42/50\n",
      "3/3 [==============================] - 2s 704ms/step - loss: 2.0078 - acc: 0.2416\n",
      "38/38 [==============================] - 25s 654ms/step - loss: 2.0950 - acc: 0.2173 - val_loss: 2.0078 - val_acc: 0.2416\n",
      "Epoch 43/50\n",
      "3/3 [==============================] - 2s 711ms/step - loss: 1.9915 - acc: 0.2416\n",
      "38/38 [==============================] - 24s 621ms/step - loss: 2.0963 - acc: 0.2244 - val_loss: 1.9915 - val_acc: 0.2416\n",
      "Epoch 44/50\n",
      "3/3 [==============================] - 2s 717ms/step - loss: 1.9896 - acc: 0.2416\n",
      "38/38 [==============================] - 24s 621ms/step - loss: 2.0944 - acc: 0.2143 - val_loss: 1.9896 - val_acc: 0.2416\n",
      "Epoch 45/50\n",
      "3/3 [==============================] - 3s 879ms/step - loss: 2.0358 - acc: 0.2416\n",
      "38/38 [==============================] - 25s 657ms/step - loss: 2.0903 - acc: 0.2081 - val_loss: 2.0358 - val_acc: 0.2416\n",
      "Epoch 46/50\n",
      "3/3 [==============================] - 2s 708ms/step - loss: 2.0362 - acc: 0.2416\n",
      "38/38 [==============================] - 25s 671ms/step - loss: 2.1021 - acc: 0.2164 - val_loss: 2.0362 - val_acc: 0.2416\n",
      "Epoch 47/50\n",
      "3/3 [==============================] - 2s 706ms/step - loss: 2.0123 - acc: 0.2416\n",
      "38/38 [==============================] - 25s 650ms/step - loss: 2.0963 - acc: 0.2114 - val_loss: 2.0123 - val_acc: 0.2416\n",
      "Epoch 48/50\n",
      "3/3 [==============================] - 2s 717ms/step - loss: 2.0044 - acc: 0.2416\n",
      "38/38 [==============================] - 24s 631ms/step - loss: 2.0923 - acc: 0.2102 - val_loss: 2.0044 - val_acc: 0.2416\n",
      "Epoch 49/50\n",
      "3/3 [==============================] - 2s 716ms/step - loss: 2.0289 - acc: 0.2416\n",
      "38/38 [==============================] - 26s 676ms/step - loss: 2.0989 - acc: 0.2185 - val_loss: 2.0289 - val_acc: 0.2416\n",
      "Epoch 50/50\n",
      "3/3 [==============================] - 2s 705ms/step - loss: 2.0292 - acc: 0.2416\n",
      "38/38 [==============================] - 24s 618ms/step - loss: 2.0963 - acc: 0.2152 - val_loss: 2.0292 - val_acc: 0.2416\n"
     ]
    },
    {
     "data": {
      "text/plain": [
       "<tensorflow.python.keras.callbacks.History at 0x7f4ed414b198>"
      ]
     },
     "execution_count": 33,
     "metadata": {},
     "output_type": "execute_result"
    }
   ],
   "source": [
    "num_epoch=50\n",
    "model.fit_generator(ftrain_generator, epochs = num_epoch, validation_data=ftest_generator)"
   ]
  },
  {
   "cell_type": "code",
   "execution_count": 35,
   "metadata": {},
   "outputs": [
    {
     "name": "stdout",
     "output_type": "stream",
     "text": [
      "[[3.02342705e-05 2.34097727e-02 9.76512551e-01 ... 1.28207134e-07\n",
      "  1.09881055e-08 3.68969552e-07]\n",
      " [1.20394546e-07 4.83344169e-03 9.95162964e-01 ... 6.83333815e-12\n",
      "  1.75988148e-11 1.91886104e-10]\n",
      " [1.36979163e-01 1.34361327e-01 1.31216004e-01 ... 4.17281240e-02\n",
      "  3.37003246e-02 7.49236494e-02]\n",
      " ...\n",
      " [1.67613417e-01 1.09480217e-01 1.00978822e-01 ... 1.67003404e-02\n",
      "  1.56054487e-02 4.67821620e-02]\n",
      " [2.66273048e-09 6.19622279e-12 2.32975572e-09 ... 4.03864550e-13\n",
      "  8.88800192e-18 1.13201074e-10]\n",
      " [9.68017504e-02 1.56470924e-03 1.54043199e-04 ... 4.39621590e-06\n",
      "  5.60943192e-07 2.57343549e-04]]\n"
     ]
    }
   ],
   "source": [
    "Y_pred = model.predict(X_test)\n",
    "print(Y_pred)"
   ]
  },
  {
   "cell_type": "code",
   "execution_count": 36,
   "metadata": {},
   "outputs": [
    {
     "name": "stdout",
     "output_type": "stream",
     "text": [
      "[2 2 4 4 2 2 3 5 4 1 5 5 3 4 0 5 1 9 1 5 4 4 4 4 5 4 4 0 4 5 5 4 5 5 4 5 5\n",
      " 4 4 4 4 2 1 5 5 4 0 4 4 9 4 5 5 4 4 1 1 0 9 1 9 5 0 4 5 4 5 5 5 0 2 2 5 4\n",
      " 4 4 2 4 4 0 4 0 4 4 2 2 4 3 2 3 4 4 5 4 0 5 4 4 4 5 0 3 4 0 0 5 5 4 5 4 5\n",
      " 0 5 1 1 4 4 5 1 3 2 1 5 2 4 4 5 5 4 4 3 4 4 1 4 2 1 4 1 4 0 5 0 0 3 4 0 4\n",
      " 1 0 4 4 5 4 5 5 5 0 4 4 4 4 4 5 5 0 4 4 9 4 3 3 4 4 4 5 5 1 4 1 9 5 0 5 0\n",
      " 5 1 2 5 2 0 4 1 3 0 4 0 5 4 4 3 4 4 1 4 2 1 4 5 4 2 4 5 4 1 5 0 5 5 1 1 4\n",
      " 0 3 4 2 0 0 5 5 0 4 0 0 5 4 4 0 1 3 4 0 4 0 2 4 5 5 5 4 4 5 2 2 4 4 3 4 1\n",
      " 0 9 4 4 3 0 5 2 0 0 0 5 4 0 4 2 4 5 4 4 1 4 5 4 0 5 5 4 0 0 1 1 5 5 1 9 5\n",
      " 4 1 3 4 5 3 4 1 0 5 0 4 1 0 2 4 0 0 4 2 5 1 4 4 1 4 4 9 0 9 3 5 0 4 4 3 5\n",
      " 4 4 2 4 4 4 3 5 5 4 4 9 0 4 5 0 2 4 0 5 0 5 4 1 0 3 3 2 4 3 1 4 9 5 4 0 9\n",
      " 4 1 4 0 5 4 1 4 1 4 5 0 9 0 0 4 5 9 0 3 1 2 2 5 0 4 4 2 0 2 9 3 1 3 1 4 4\n",
      " 2 5 5 5 4 3 4 5 5 2 2 4 5 1 4 4 4 0 4 2 1 2 4 4 4 1 0 0 5 5 5 1 4 5 5 3 4\n",
      " 5 4 4 9 2 9 0 1 4 9 3 4 4 1 0 5 2 4 3 3 4 5 0 2 3 4 3 5 5 5 2 4 4 5 3 5 5\n",
      " 5 4 2 0 4 5 0 4 2 3 3 9 5 4 2 5 1 5 4 2 4 4 5 4 3 5 1 2 4 4 5 4 4 4 1 2 4\n",
      " 2 4 0 4 5 4 4 4 4 4 9 0 0 1 2 0 2 5 2 5 4 4 5 4 3 2 5 4 2 0 2 5 1 5 5 4 0\n",
      " 1 3 4 1 4 5 4 2 1 1 0 5 3 1 9 5 2 0 4 2 5 5 2 2 4 0 4 1 9 3 4 1 0 5 0 5 2\n",
      " 4 4 2 5 4 4 2 1 4 5 0 5 4 4 0 1 0 2 9 4 2 4 5 3 5 4 4 0 0 1 5 5 0 4 5 5 4\n",
      " 4 4 0 2 4 4 4 5 0 2 4 1 4 0 4 4 5 2 0 5 4 0 1 4 0 9 1 4 2 4 4 3 4 0 4 5 4\n",
      " 5 2 0 4 5 5 5 0 5 4 2 0 2 2 2 0 0 4 4 4 0 4 5 5 4 4 2 1 1 2 1 4 0 2 1 1 4\n",
      " 1 3 4 2 4 5 4 5 4 4 5 3 4 2 4 4 4 2 4 1 4 3 4 5 1 5 5 5 5 4 3 1 4 2 5 4 4\n",
      " 5 4 4 5 5]\n"
     ]
    }
   ],
   "source": [
    "y_pred = np.argmax(Y_pred, axis=1)\n",
    "print(y_pred)"
   ]
  },
  {
   "cell_type": "code",
   "execution_count": 37,
   "metadata": {},
   "outputs": [
    {
     "name": "stdout",
     "output_type": "stream",
     "text": [
      "[[ 62   1   0   4  33   4   0   0   0   0]\n",
      " [  5  72   2   0   3   3   0   0   0   2]\n",
      " [  1   1  79   0   1   0   0   0   0   0]\n",
      " [  0   0   0  44   1   0   0   0   0   0]\n",
      " [  0   0   0   0 157   1   0   0   0   0]\n",
      " [  1   0   0   0  16 143   0   0   0   0]\n",
      " [ 13   0   0   0   8   3   0   0   0   0]\n",
      " [  6   2   0   0  14   2   0   0   0   0]\n",
      " [  6   0   0   0   4   0   0   0   0   0]\n",
      " [  9   0   0   0  16   3   0   0   0  23]]\n"
     ]
    }
   ],
   "source": [
    "print(confusion_matrix(np.argmax(y_test, axis=1), y_pred))"
   ]
  },
  {
   "cell_type": "markdown",
   "metadata": {},
   "source": [
    "# Transaffer Learning"
   ]
  },
  {
   "cell_type": "code",
   "execution_count": 38,
   "metadata": {},
   "outputs": [],
   "source": [
    "from tensorflow.keras.layers import Input, Dense"
   ]
  },
  {
   "cell_type": "code",
   "execution_count": 39,
   "metadata": {},
   "outputs": [],
   "source": [
    "image_input = Input(shape=(img_rows, img_cols, num_channel))"
   ]
  },
  {
   "cell_type": "code",
   "execution_count": 40,
   "metadata": {},
   "outputs": [
    {
     "name": "stdout",
     "output_type": "stream",
     "text": [
      "Downloading data from https://github.com/fchollet/deep-learning-models/releases/download/v0.1/vgg16_weights_tf_dim_ordering_tf_kernels.h5\n",
      "553467904/553467096 [==============================] - 13s 0us/step\n"
     ]
    }
   ],
   "source": [
    "from tensorflow.keras.applications.vgg16 import VGG16\n",
    "\n",
    "model = VGG16(input_tensor=image_input, include_top=True, weights='imagenet')"
   ]
  },
  {
   "cell_type": "code",
   "execution_count": 41,
   "metadata": {},
   "outputs": [
    {
     "name": "stdout",
     "output_type": "stream",
     "text": [
      "_________________________________________________________________\n",
      "Layer (type)                 Output Shape              Param #   \n",
      "=================================================================\n",
      "input_1 (InputLayer)         (None, 224, 224, 3)       0         \n",
      "_________________________________________________________________\n",
      "block1_conv1 (Conv2D)        (None, 224, 224, 64)      1792      \n",
      "_________________________________________________________________\n",
      "block1_conv2 (Conv2D)        (None, 224, 224, 64)      36928     \n",
      "_________________________________________________________________\n",
      "block1_pool (MaxPooling2D)   (None, 112, 112, 64)      0         \n",
      "_________________________________________________________________\n",
      "block2_conv1 (Conv2D)        (None, 112, 112, 128)     73856     \n",
      "_________________________________________________________________\n",
      "block2_conv2 (Conv2D)        (None, 112, 112, 128)     147584    \n",
      "_________________________________________________________________\n",
      "block2_pool (MaxPooling2D)   (None, 56, 56, 128)       0         \n",
      "_________________________________________________________________\n",
      "block3_conv1 (Conv2D)        (None, 56, 56, 256)       295168    \n",
      "_________________________________________________________________\n",
      "block3_conv2 (Conv2D)        (None, 56, 56, 256)       590080    \n",
      "_________________________________________________________________\n",
      "block3_conv3 (Conv2D)        (None, 56, 56, 256)       590080    \n",
      "_________________________________________________________________\n",
      "block3_pool (MaxPooling2D)   (None, 28, 28, 256)       0         \n",
      "_________________________________________________________________\n",
      "block4_conv1 (Conv2D)        (None, 28, 28, 512)       1180160   \n",
      "_________________________________________________________________\n",
      "block4_conv2 (Conv2D)        (None, 28, 28, 512)       2359808   \n",
      "_________________________________________________________________\n",
      "block4_conv3 (Conv2D)        (None, 28, 28, 512)       2359808   \n",
      "_________________________________________________________________\n",
      "block4_pool (MaxPooling2D)   (None, 14, 14, 512)       0         \n",
      "_________________________________________________________________\n",
      "block5_conv1 (Conv2D)        (None, 14, 14, 512)       2359808   \n",
      "_________________________________________________________________\n",
      "block5_conv2 (Conv2D)        (None, 14, 14, 512)       2359808   \n",
      "_________________________________________________________________\n",
      "block5_conv3 (Conv2D)        (None, 14, 14, 512)       2359808   \n",
      "_________________________________________________________________\n",
      "block5_pool (MaxPooling2D)   (None, 7, 7, 512)         0         \n",
      "_________________________________________________________________\n",
      "flatten (Flatten)            (None, 25088)             0         \n",
      "_________________________________________________________________\n",
      "fc1 (Dense)                  (None, 4096)              102764544 \n",
      "_________________________________________________________________\n",
      "fc2 (Dense)                  (None, 4096)              16781312  \n",
      "_________________________________________________________________\n",
      "predictions (Dense)          (None, 1000)              4097000   \n",
      "=================================================================\n",
      "Total params: 138,357,544\n",
      "Trainable params: 138,357,544\n",
      "Non-trainable params: 0\n",
      "_________________________________________________________________\n"
     ]
    }
   ],
   "source": [
    "model.summary()"
   ]
  },
  {
   "cell_type": "code",
   "execution_count": 42,
   "metadata": {},
   "outputs": [],
   "source": [
    "last_layer = model.get_layer('fc2').output\n",
    "out = Dense(num_classes, activation='softmax', name='output')(last_layer)"
   ]
  },
  {
   "cell_type": "code",
   "execution_count": 43,
   "metadata": {},
   "outputs": [
    {
     "name": "stdout",
     "output_type": "stream",
     "text": [
      "_________________________________________________________________\n",
      "Layer (type)                 Output Shape              Param #   \n",
      "=================================================================\n",
      "input_1 (InputLayer)         (None, 224, 224, 3)       0         \n",
      "_________________________________________________________________\n",
      "block1_conv1 (Conv2D)        (None, 224, 224, 64)      1792      \n",
      "_________________________________________________________________\n",
      "block1_conv2 (Conv2D)        (None, 224, 224, 64)      36928     \n",
      "_________________________________________________________________\n",
      "block1_pool (MaxPooling2D)   (None, 112, 112, 64)      0         \n",
      "_________________________________________________________________\n",
      "block2_conv1 (Conv2D)        (None, 112, 112, 128)     73856     \n",
      "_________________________________________________________________\n",
      "block2_conv2 (Conv2D)        (None, 112, 112, 128)     147584    \n",
      "_________________________________________________________________\n",
      "block2_pool (MaxPooling2D)   (None, 56, 56, 128)       0         \n",
      "_________________________________________________________________\n",
      "block3_conv1 (Conv2D)        (None, 56, 56, 256)       295168    \n",
      "_________________________________________________________________\n",
      "block3_conv2 (Conv2D)        (None, 56, 56, 256)       590080    \n",
      "_________________________________________________________________\n",
      "block3_conv3 (Conv2D)        (None, 56, 56, 256)       590080    \n",
      "_________________________________________________________________\n",
      "block3_pool (MaxPooling2D)   (None, 28, 28, 256)       0         \n",
      "_________________________________________________________________\n",
      "block4_conv1 (Conv2D)        (None, 28, 28, 512)       1180160   \n",
      "_________________________________________________________________\n",
      "block4_conv2 (Conv2D)        (None, 28, 28, 512)       2359808   \n",
      "_________________________________________________________________\n",
      "block4_conv3 (Conv2D)        (None, 28, 28, 512)       2359808   \n",
      "_________________________________________________________________\n",
      "block4_pool (MaxPooling2D)   (None, 14, 14, 512)       0         \n",
      "_________________________________________________________________\n",
      "block5_conv1 (Conv2D)        (None, 14, 14, 512)       2359808   \n",
      "_________________________________________________________________\n",
      "block5_conv2 (Conv2D)        (None, 14, 14, 512)       2359808   \n",
      "_________________________________________________________________\n",
      "block5_conv3 (Conv2D)        (None, 14, 14, 512)       2359808   \n",
      "_________________________________________________________________\n",
      "block5_pool (MaxPooling2D)   (None, 7, 7, 512)         0         \n",
      "_________________________________________________________________\n",
      "flatten (Flatten)            (None, 25088)             0         \n",
      "_________________________________________________________________\n",
      "fc1 (Dense)                  (None, 4096)              102764544 \n",
      "_________________________________________________________________\n",
      "fc2 (Dense)                  (None, 4096)              16781312  \n",
      "_________________________________________________________________\n",
      "output (Dense)               (None, 10)                40970     \n",
      "=================================================================\n",
      "Total params: 134,301,514\n",
      "Trainable params: 134,301,514\n",
      "Non-trainable params: 0\n",
      "_________________________________________________________________\n"
     ]
    }
   ],
   "source": [
    "from tensorflow.keras.models import Model\n",
    "\n",
    "custom_vgg_model = Model(image_input, out)\n",
    "custom_vgg_model.summary()"
   ]
  },
  {
   "cell_type": "code",
   "execution_count": 44,
   "metadata": {},
   "outputs": [],
   "source": [
    "for layer in custom_vgg_model.layers[:-1]:\n",
    "    layer.trainable = False"
   ]
  },
  {
   "cell_type": "code",
   "execution_count": 45,
   "metadata": {},
   "outputs": [],
   "source": [
    "custom_vgg_model.compile(loss='categorical_crossentropy', optimizer='rmsprop', metrics=['accuracy'])"
   ]
  },
  {
   "cell_type": "code",
   "execution_count": 46,
   "metadata": {},
   "outputs": [
    {
     "name": "stdout",
     "output_type": "stream",
     "text": [
      "Train on 2980 samples, validate on 745 samples\n",
      "Epoch 1/50\n",
      "2980/2980 [==============================] - 13s 4ms/sample - loss: 1.7686 - acc: 0.4886 - val_loss: 1.4031 - val_acc: 0.5074\n",
      "Epoch 2/50\n",
      "2980/2980 [==============================] - 10s 3ms/sample - loss: 0.7555 - acc: 0.7594 - val_loss: 0.7541 - val_acc: 0.6765\n",
      "Epoch 3/50\n",
      "2980/2980 [==============================] - 10s 3ms/sample - loss: 0.4820 - acc: 0.8443 - val_loss: 0.3280 - val_acc: 0.9114\n",
      "Epoch 4/50\n",
      "2980/2980 [==============================] - 10s 3ms/sample - loss: 0.3398 - acc: 0.8919 - val_loss: 0.6279 - val_acc: 0.7342\n",
      "Epoch 5/50\n",
      "2980/2980 [==============================] - 10s 3ms/sample - loss: 0.2791 - acc: 0.9141 - val_loss: 0.3741 - val_acc: 0.8510\n",
      "Epoch 6/50\n",
      "2980/2980 [==============================] - 10s 3ms/sample - loss: 0.2273 - acc: 0.9295 - val_loss: 0.4746 - val_acc: 0.8201\n",
      "Epoch 7/50\n",
      "2980/2980 [==============================] - 10s 3ms/sample - loss: 0.1894 - acc: 0.9460 - val_loss: 0.1628 - val_acc: 0.9450\n",
      "Epoch 8/50\n",
      "2980/2980 [==============================] - 10s 3ms/sample - loss: 0.1813 - acc: 0.9477 - val_loss: 0.1208 - val_acc: 0.9624\n",
      "Epoch 9/50\n",
      "2980/2980 [==============================] - 10s 3ms/sample - loss: 0.1689 - acc: 0.9473 - val_loss: 0.1130 - val_acc: 0.9570\n",
      "Epoch 10/50\n",
      "2980/2980 [==============================] - 10s 3ms/sample - loss: 0.1483 - acc: 0.9530 - val_loss: 0.1691 - val_acc: 0.9356\n",
      "Epoch 11/50\n",
      "2980/2980 [==============================] - 10s 3ms/sample - loss: 0.1332 - acc: 0.9574 - val_loss: 0.1110 - val_acc: 0.9691\n",
      "Epoch 12/50\n",
      "2980/2980 [==============================] - 10s 3ms/sample - loss: 0.1556 - acc: 0.9470 - val_loss: 0.2785 - val_acc: 0.9141\n",
      "Epoch 13/50\n",
      "2980/2980 [==============================] - 10s 3ms/sample - loss: 0.1167 - acc: 0.9628 - val_loss: 0.1063 - val_acc: 0.9638\n",
      "Epoch 14/50\n",
      "2980/2980 [==============================] - 10s 3ms/sample - loss: 0.1095 - acc: 0.9661 - val_loss: 0.1778 - val_acc: 0.9315\n",
      "Epoch 15/50\n",
      "2980/2980 [==============================] - 10s 3ms/sample - loss: 0.1072 - acc: 0.9641 - val_loss: 0.0872 - val_acc: 0.9705\n",
      "Epoch 16/50\n",
      "2980/2980 [==============================] - 10s 3ms/sample - loss: 0.1053 - acc: 0.9671 - val_loss: 0.2067 - val_acc: 0.9315\n",
      "Epoch 17/50\n",
      "2980/2980 [==============================] - 10s 3ms/sample - loss: 0.0922 - acc: 0.9691 - val_loss: 0.1083 - val_acc: 0.9557\n",
      "Epoch 18/50\n",
      "2980/2980 [==============================] - 10s 3ms/sample - loss: 0.0964 - acc: 0.9671 - val_loss: 0.0812 - val_acc: 0.9745\n",
      "Epoch 19/50\n",
      "2980/2980 [==============================] - 10s 3ms/sample - loss: 0.0845 - acc: 0.9745 - val_loss: 0.1147 - val_acc: 0.9557\n",
      "Epoch 20/50\n",
      "2980/2980 [==============================] - 10s 3ms/sample - loss: 0.0837 - acc: 0.9715 - val_loss: 0.1007 - val_acc: 0.9611\n",
      "Epoch 21/50\n",
      "2980/2980 [==============================] - 10s 3ms/sample - loss: 0.0874 - acc: 0.9738 - val_loss: 0.3398 - val_acc: 0.8832\n",
      "Epoch 22/50\n",
      "2980/2980 [==============================] - 10s 3ms/sample - loss: 0.0753 - acc: 0.9772 - val_loss: 0.1140 - val_acc: 0.9557\n",
      "Epoch 23/50\n",
      "2980/2980 [==============================] - 10s 3ms/sample - loss: 0.0738 - acc: 0.9755 - val_loss: 0.1034 - val_acc: 0.9624\n",
      "Epoch 24/50\n",
      "2980/2980 [==============================] - 10s 3ms/sample - loss: 0.0691 - acc: 0.9762 - val_loss: 0.0782 - val_acc: 0.9691\n",
      "Epoch 25/50\n",
      "2980/2980 [==============================] - 10s 3ms/sample - loss: 0.0703 - acc: 0.9792 - val_loss: 0.0835 - val_acc: 0.9718\n",
      "Epoch 26/50\n",
      "2980/2980 [==============================] - 10s 3ms/sample - loss: 0.0643 - acc: 0.9779 - val_loss: 0.1104 - val_acc: 0.9691\n",
      "Epoch 27/50\n",
      "2980/2980 [==============================] - 10s 3ms/sample - loss: 0.0623 - acc: 0.9795 - val_loss: 0.2383 - val_acc: 0.9128\n",
      "Epoch 28/50\n",
      "2980/2980 [==============================] - 10s 3ms/sample - loss: 0.0597 - acc: 0.9805 - val_loss: 0.0769 - val_acc: 0.9691\n",
      "Epoch 29/50\n",
      "2980/2980 [==============================] - 10s 3ms/sample - loss: 0.0622 - acc: 0.9832 - val_loss: 0.1381 - val_acc: 0.9490\n",
      "Epoch 30/50\n",
      "2980/2980 [==============================] - 10s 3ms/sample - loss: 0.0635 - acc: 0.9812 - val_loss: 0.0878 - val_acc: 0.9638\n",
      "Epoch 31/50\n",
      "2980/2980 [==============================] - 10s 3ms/sample - loss: 0.0550 - acc: 0.9819 - val_loss: 0.0752 - val_acc: 0.9705\n",
      "Epoch 32/50\n",
      "2980/2980 [==============================] - 10s 3ms/sample - loss: 0.0587 - acc: 0.9832 - val_loss: 0.0596 - val_acc: 0.9758\n",
      "Epoch 33/50\n",
      "2980/2980 [==============================] - 10s 3ms/sample - loss: 0.0605 - acc: 0.9768 - val_loss: 0.0538 - val_acc: 0.9732\n",
      "Epoch 34/50\n",
      "2980/2980 [==============================] - 10s 3ms/sample - loss: 0.0653 - acc: 0.9785 - val_loss: 0.1117 - val_acc: 0.9557\n",
      "Epoch 35/50\n",
      "2980/2980 [==============================] - 10s 3ms/sample - loss: 0.0412 - acc: 0.9872 - val_loss: 0.1448 - val_acc: 0.9463\n",
      "Epoch 36/50\n",
      "2980/2980 [==============================] - 10s 3ms/sample - loss: 0.0525 - acc: 0.9832 - val_loss: 0.1476 - val_acc: 0.9517\n",
      "Epoch 37/50\n",
      "2980/2980 [==============================] - 10s 3ms/sample - loss: 0.0481 - acc: 0.9836 - val_loss: 0.0790 - val_acc: 0.9664\n",
      "Epoch 38/50\n",
      "2980/2980 [==============================] - 10s 3ms/sample - loss: 0.0461 - acc: 0.9846 - val_loss: 0.1161 - val_acc: 0.9597\n",
      "Epoch 39/50\n",
      "2980/2980 [==============================] - 10s 3ms/sample - loss: 0.0407 - acc: 0.9876 - val_loss: 0.0631 - val_acc: 0.9732\n",
      "Epoch 40/50\n",
      "2980/2980 [==============================] - 10s 3ms/sample - loss: 0.0448 - acc: 0.9856 - val_loss: 0.1798 - val_acc: 0.9369\n",
      "Epoch 41/50\n",
      "2980/2980 [==============================] - 10s 3ms/sample - loss: 0.0384 - acc: 0.9899 - val_loss: 0.1187 - val_acc: 0.9544\n",
      "Epoch 42/50\n",
      "2980/2980 [==============================] - 10s 3ms/sample - loss: 0.0492 - acc: 0.9829 - val_loss: 0.0632 - val_acc: 0.9785\n",
      "Epoch 43/50\n",
      "2980/2980 [==============================] - 10s 3ms/sample - loss: 0.0453 - acc: 0.9862 - val_loss: 0.1284 - val_acc: 0.9530\n",
      "Epoch 44/50\n",
      "2980/2980 [==============================] - 10s 3ms/sample - loss: 0.0410 - acc: 0.9883 - val_loss: 0.0751 - val_acc: 0.9718\n",
      "Epoch 45/50\n",
      "2980/2980 [==============================] - 10s 3ms/sample - loss: 0.0386 - acc: 0.9879 - val_loss: 0.0593 - val_acc: 0.9772\n",
      "Epoch 46/50\n",
      "2980/2980 [==============================] - 10s 3ms/sample - loss: 0.0402 - acc: 0.9859 - val_loss: 0.0837 - val_acc: 0.9705\n",
      "Epoch 47/50\n",
      "2980/2980 [==============================] - 10s 3ms/sample - loss: 0.0376 - acc: 0.9889 - val_loss: 0.1359 - val_acc: 0.9490\n",
      "Epoch 48/50\n",
      "2980/2980 [==============================] - 10s 3ms/sample - loss: 0.0395 - acc: 0.9869 - val_loss: 0.0798 - val_acc: 0.9624\n",
      "Epoch 49/50\n",
      "2980/2980 [==============================] - 10s 3ms/sample - loss: 0.0367 - acc: 0.9889 - val_loss: 0.0599 - val_acc: 0.9772\n",
      "Epoch 50/50\n",
      "2980/2980 [==============================] - 10s 3ms/sample - loss: 0.0341 - acc: 0.9893 - val_loss: 0.1510 - val_acc: 0.9490\n"
     ]
    },
    {
     "data": {
      "text/plain": [
       "<tensorflow.python.keras.callbacks.History at 0x7f4ea84d0320>"
      ]
     },
     "execution_count": 46,
     "metadata": {},
     "output_type": "execute_result"
    }
   ],
   "source": [
    "custom_vgg_model.fit(X_train, y_train, batch_size=batch_size, epochs=num_epoch, verbose=1, validation_data=(X_test, y_test))"
   ]
  },
  {
   "cell_type": "code",
   "execution_count": 47,
   "metadata": {},
   "outputs": [
    {
     "name": "stdout",
     "output_type": "stream",
     "text": [
      "745/745 [==============================] - 2s 3ms/sample - loss: 0.1510 - acc: 0.9490\n",
      "[INFO] loss=0.1510, accuracy: 94.8993%\n"
     ]
    }
   ],
   "source": [
    "(loss, accuracy) = custom_vgg_model.evaluate(X_test, y_test, batch_size=batch_size, verbose=1)\n",
    "\n",
    "print(\"[INFO] loss={:.4f}, accuracy: {:.4f}%\".format(loss, accuracy * 100))"
   ]
  },
  {
   "cell_type": "code",
   "execution_count": 48,
   "metadata": {},
   "outputs": [],
   "source": [
    "Y_train_pred = custom_vgg_model.predict(X_test)"
   ]
  },
  {
   "cell_type": "code",
   "execution_count": 49,
   "metadata": {},
   "outputs": [
    {
     "name": "stdout",
     "output_type": "stream",
     "text": [
      "[2 2 6 0 2 2 3 5 6 1 5 5 3 9 7 5 1 9 2 5 4 4 4 4 5 4 4 8 4 5 5 4 5 5 4 5 5\n",
      " 4 4 4 4 2 1 5 5 4 0 4 4 9 8 5 5 4 4 1 2 0 9 1 9 5 0 4 1 4 5 5 5 9 2 2 5 4\n",
      " 4 4 2 4 9 8 6 6 7 0 2 2 7 3 2 3 8 4 5 7 6 5 4 4 6 5 1 3 4 9 1 5 5 4 5 5 5\n",
      " 0 5 1 1 4 6 5 1 0 2 1 5 2 4 0 5 5 4 4 0 4 4 1 4 2 1 6 1 8 0 5 6 6 3 0 5 4\n",
      " 1 0 4 0 5 4 5 5 5 0 5 4 5 4 5 7 5 6 7 4 9 4 3 3 4 4 4 5 5 1 4 1 9 5 9 8 0\n",
      " 6 1 2 5 2 0 4 1 3 8 4 0 5 2 4 3 6 4 1 4 2 1 1 1 4 2 4 5 4 7 5 6 5 5 1 7 0\n",
      " 0 3 6 2 6 7 5 5 4 4 0 0 5 7 7 0 1 3 4 0 9 8 2 4 5 5 5 4 9 5 2 2 2 4 3 9 1\n",
      " 1 9 4 4 3 0 6 2 6 1 7 5 4 1 4 2 4 5 4 9 1 4 5 4 8 5 5 5 0 0 1 1 5 5 1 1 5\n",
      " 4 1 3 6 5 3 4 1 0 5 6 0 1 0 2 9 0 5 4 2 5 1 6 5 1 4 4 9 9 9 3 5 0 4 9 3 5\n",
      " 4 7 6 6 6 0 3 5 0 7 4 9 7 4 5 8 2 4 0 6 8 5 4 1 0 3 3 2 1 3 1 4 1 5 4 0 9\n",
      " 9 1 5 4 5 1 1 4 1 4 5 6 9 0 6 9 5 9 8 3 0 2 2 6 9 4 0 2 9 2 9 3 1 3 1 4 4\n",
      " 2 5 5 9 0 3 6 5 1 2 2 0 5 1 4 4 4 2 6 2 1 2 4 5 4 1 0 8 5 4 5 1 4 5 5 3 4\n",
      " 5 0 4 9 2 9 6 1 4 9 0 4 7 1 8 5 2 0 3 3 4 5 7 2 3 4 3 5 9 5 2 4 8 7 3 5 5\n",
      " 5 0 2 8 7 5 6 4 2 3 3 9 5 4 2 5 1 5 4 2 4 4 5 4 3 5 1 2 4 4 5 4 4 0 1 2 4\n",
      " 2 6 0 4 5 4 4 0 4 4 9 9 6 1 2 0 2 5 2 5 5 4 5 4 0 2 5 4 2 8 2 5 1 5 5 4 0\n",
      " 1 3 4 1 4 5 4 2 1 1 6 5 3 1 9 5 2 9 4 2 5 5 2 2 7 0 0 1 9 3 3 1 9 5 0 5 2\n",
      " 4 9 2 5 6 5 1 1 4 5 0 5 4 5 9 1 9 2 9 4 2 6 5 3 5 9 4 0 0 1 5 5 6 4 5 5 4\n",
      " 4 4 6 1 0 4 4 5 0 2 1 1 5 0 0 4 5 2 9 5 5 6 1 9 0 9 1 9 2 7 4 3 4 0 5 5 0\n",
      " 5 2 6 4 5 9 5 0 5 4 2 0 2 2 2 0 0 4 9 4 7 8 5 5 4 5 2 1 1 2 1 4 0 2 1 1 7\n",
      " 1 3 4 2 4 5 4 5 4 4 5 3 4 2 4 9 4 2 4 1 9 3 8 5 1 9 5 5 5 4 3 1 4 2 5 4 4\n",
      " 6 4 7 5 5]\n"
     ]
    }
   ],
   "source": [
    "y_train_pred = np.argmax(Y_train_pred, axis=1)\n",
    "print(y_train_pred)"
   ]
  },
  {
   "cell_type": "code",
   "execution_count": 50,
   "metadata": {},
   "outputs": [
    {
     "name": "stdout",
     "output_type": "stream",
     "text": [
      "[[ 70   1   1   0   2   1  17   0   7   5]\n",
      " [  0  86   1   0   0   0   0   0   0   0]\n",
      " [  0   0  81   0   0   0   1   0   0   0]\n",
      " [  0   0   0  45   0   0   0   0   0   0]\n",
      " [  0   0   0   0 158   0   0   0   0   0]\n",
      " [  0   0   0   0   0 158   0   0   2   0]\n",
      " [  0   0   0   0   0   0  24   0   0   0]\n",
      " [  0   0   0   0   0   0   0  24   0   0]\n",
      " [  0   0   0   0   0   0   0   0  10   0]\n",
      " [  0   0   0   0   0   0   0   0   0  51]]\n"
     ]
    }
   ],
   "source": [
    "print(confusion_matrix(np.argmax(y_test, axis=1), y_train_pred))"
   ]
  },
  {
   "cell_type": "code",
   "execution_count": null,
   "metadata": {},
   "outputs": [],
   "source": []
  }
 ],
 "metadata": {
  "kernelspec": {
   "display_name": "Python 3",
   "language": "python",
   "name": "python3"
  },
  "language_info": {
   "codemirror_mode": {
    "name": "ipython",
    "version": 3
   },
   "file_extension": ".py",
   "mimetype": "text/x-python",
   "name": "python",
   "nbconvert_exporter": "python",
   "pygments_lexer": "ipython3",
   "version": "3.6.5"
  }
 },
 "nbformat": 4,
 "nbformat_minor": 1
}
